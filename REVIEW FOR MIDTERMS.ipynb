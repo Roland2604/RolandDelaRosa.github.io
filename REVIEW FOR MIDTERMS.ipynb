{
 "cells": [
  {
   "cell_type": "code",
   "execution_count": 23,
   "id": "5d694c9b",
   "metadata": {},
   "outputs": [
    {
     "name": "stdout",
     "output_type": "stream",
     "text": [
      "Enter a number: 34\n",
      "34 is a positive number.\n",
      "Enter a number: 34\n",
      "34 is a positive number.\n",
      "Enter a number: 34\n",
      "34 is a positive number.\n",
      "Enter a number: 34\n",
      "34 is a positive number.\n",
      "Enter a number: 343\n",
      "343 is a positive number.\n",
      "Enter a number: 43\n",
      "43 is a positive number.\n",
      "Enter a number: 434\n",
      "434 is a positive number.\n",
      "Enter a number: 340\n",
      "340 is a positive number.\n",
      "Enter a number: 0\n",
      "Thank you for using the program.\n"
     ]
    }
   ],
   "source": [
    "num=\"\"   ##you need to declare the value of num as \"\"\n",
    "\n",
    "while num!=0:\n",
    "    num=eval(input(\"Enter a number: \"))\n",
    "    if num>0:\n",
    "        print(f\"{num} is a positive number.\")\n",
    "    elif num<0:\n",
    "        print(f\"{num} is a negative number.\")\n",
    "    else:\n",
    "        break\n",
    "    \n",
    "    \n",
    "print(\"Thank you for using the program.\")\n"
   ]
  },
  {
   "cell_type": "code",
   "execution_count": 24,
   "id": "743f509c",
   "metadata": {},
   "outputs": [
    {
     "name": "stdout",
     "output_type": "stream",
     "text": [
      "Enter a number: 0\n",
      "Thank you for using the program.\n"
     ]
    }
   ],
   "source": [
    "#Ask the user a number and identify if it is lower than 200.\n",
    "\n",
    "\n",
    "num=\"\"   ##you need to declare the value of num as \"\"\n",
    "while num!=0:\n",
    "    num=eval(input(\"Enter a number: \"))\n",
    "    if num==0:\n",
    "        break\n",
    "    elif num<200:\n",
    "        print(f\"{num} is lower than 200.\")\n",
    "    elif num>200:\n",
    "        print(f\"{num} is a higher than 200.\")\n",
    "    else:\n",
    "        print(f\"{num} is equal to 200.\")\n",
    "  \n",
    "    \n",
    "print(\"Thank you for using the program.\")\n"
   ]
  },
  {
   "cell_type": "code",
   "execution_count": null,
   "id": "681f8a51",
   "metadata": {},
   "outputs": [
    {
     "name": "stdout",
     "output_type": "stream",
     "text": [
      "How many pounds does your suitcase weigh? 67\n",
      "You have $25 charge for your luggage.\n"
     ]
    }
   ],
   "source": [
    "#Ask the user how many pounds does his suitcase weigh. \n",
    "#If the weight is greater than 50, \n",
    "#print There is a $25 charge for luggage that heavy. \n",
    "\n",
    "\n",
    "\n",
    "pounds=\"\"   ##you need to declare the value of num as \"\"\n",
    "while pounds!=0:\n",
    "    pounds=eval(input(\"How many pounds does your suitcase weigh? \"))\n",
    "    if pounds==0:\n",
    "        break\n",
    "    elif pounds>50:\n",
    "        print(\"You have $25 charge for your luggage.\")\n",
    "    else:\n",
    "        print(\"You don't need to pay additional fee.\")\n",
    "    \n",
    "print(\"Thank you for using the program.\")"
   ]
  },
  {
   "cell_type": "code",
   "execution_count": null,
   "id": "6d37bed5",
   "metadata": {},
   "outputs": [],
   "source": [
    "amount=\"\"\n",
    "\n",
    "while amount!=0:\n",
    "    discount=0\n",
    "    \n",
    "    amount=int(input(\"Enter amount: \"))\n",
    "    \n",
    "    if amount==0:\n",
    "        break\n",
    "    \n",
    "    elif amount<1000:\n",
    "        \n",
    "     discount=amount*0.05\n",
    "     print (\"Discount\",discount)\n",
    "     \n",
    "    else:\n",
    "     discount=amount*0.10\n",
    "     print (\"Discount\",discount)\n",
    "    \n",
    "    print (\"Net payable:\",amount-discount)\n",
    "\n",
    "print(\"Thank you for using the program.\")\n"
   ]
  },
  {
   "cell_type": "code",
   "execution_count": null,
   "id": "9c7fc296",
   "metadata": {},
   "outputs": [],
   "source": [
    "#A Python Program to check whether the applicant is eligible to vote in the elections or not \n",
    "age=\"\"\n",
    "\n",
    "while age != 0:\n",
    "    age=eval(input(\"Please enter the age of the applicant: \"))\n",
    "    if age==0:\n",
    "        break\n",
    "    elif age>=18:\n",
    "        print(\"The applicant is eligible to vote in the elections.\")\n",
    "    else:\n",
    "        need_years=18-age\n",
    "        print(f\"The applicant is not eligible to vote. They need {need_years} more year/s.\")\n",
    "\n",
    "print(\"Thank you for using the program.\")\n"
   ]
  },
  {
   "cell_type": "code",
   "execution_count": null,
   "id": "aed79be1",
   "metadata": {},
   "outputs": [],
   "source": [
    "#Ask the user three numbers and display the highest number\n",
    "#The program will be terminated if you enter 0 in any number\n",
    "\n",
    "num1 = num2 = num3 =\"\"\n",
    "\n",
    "while num1 != 0 or num2 != 0 or num3 != 0:\n",
    "    num1=eval(input(\"Enter the first number: \"))\n",
    "    num2=eval(input(\"Enter the second number: \"))\n",
    "    num3=eval(input(\"Enter the third number: \"))\n",
    "    \n",
    "    if num1 == 0 or num2 == 0 or num3 == 0:\n",
    "        break\n",
    "    \n",
    "    elif num1>num2 and num1> num3:\n",
    "        print(f\"{num1} is the highest number.\")\n",
    "    \n",
    "    elif num2>num1 and num2> num3:\n",
    "        print(f\"{num2} is the highest number.\")\n",
    "        \n",
    "    else:\n",
    "        print(f\"{num3} is the highest number.\")\n",
    "    \n",
    "\n",
    "print(\"Thank you for using the program.\")\n"
   ]
  },
  {
   "cell_type": "code",
   "execution_count": 6,
   "id": "584e399c",
   "metadata": {},
   "outputs": [
    {
     "name": "stdout",
     "output_type": "stream",
     "text": [
      "Please input a number: 200\n",
      "You have 3 minutes and 20 seconds.\n"
     ]
    }
   ],
   "source": [
    "#Number of minutes and seconds\n",
    "\n",
    "num = eval(input(\"Please input a number: \"))\n",
    "\n",
    "\n",
    "mins= (round(num/60))\n",
    "\n",
    "a = 60*mins\n",
    "\n",
    "sec= num-a\n",
    "\n",
    "print(f\"You have {mins} minutes and {sec} seconds.\")\n",
    "\n",
    "\n",
    "\n"
   ]
  },
  {
   "cell_type": "code",
   "execution_count": 5,
   "id": "61f15638",
   "metadata": {},
   "outputs": [
    {
     "name": "stdout",
     "output_type": "stream",
     "text": [
      "Enter a number of seconds: 200\n",
      "200 seconds is 3 minutes and 20 seconds.\n"
     ]
    }
   ],
   "source": [
    "seconds = int(input(\"Enter a number of seconds: \"))\n",
    "\n",
    "minutes = seconds // 60  # Get the number of minutes\n",
    "remaining_seconds = seconds % 60  # Get the remaining seconds\n",
    "\n",
    "print(f\"{seconds} seconds is {minutes} minutes and {remaining_seconds} seconds.\")\n"
   ]
  },
  {
   "cell_type": "code",
   "execution_count": null,
   "id": "f67bcbee",
   "metadata": {},
   "outputs": [
    {
     "name": "stdout",
     "output_type": "stream",
     "text": [
      "BMI Calculator Program\n",
      "Enter your weight (kg): 54\n",
      "Enter your height (cm): 54\n",
      "BMI: 185.19, Category: Obesity\n"
     ]
    }
   ],
   "source": [
    "print(\"BMI Calculator Program\")\n",
    "\n",
    "while True:\n",
    "    weight = float(input(\"Enter your weight (kg): \"))\n",
    "\n",
    "    height = float(input(\"Enter your height (cm): \"))\n",
    "\n",
    "    bmi = round(weight / (height / 100) ** 2, 2)\n",
    "\n",
    "    if bmi < 18.5:\n",
    "        print(f\"BMI: {bmi}, Category: Underweight\")\n",
    "    elif bmi < 25:\n",
    "        print(f\"BMI: {bmi}, Category: Normal weight\")\n",
    "    elif bmi < 30:\n",
    "        print(f\"BMI: {bmi}, Category: Overweight\")\n",
    "    else:\n",
    "        print(f\"BMI: {bmi}, Category: Obesity\")\n",
    "\n",
    "    choice = input(\"Continue? (Yes/No): \")\n",
    "    if choice.upper() == \"NO\":\n",
    "        print(\"Thank you for using the program\")\n",
    "        break"
   ]
  },
  {
   "cell_type": "code",
   "execution_count": null,
   "id": "91e482d7",
   "metadata": {},
   "outputs": [],
   "source": [
    "#Fibonacci\n",
    "\n",
    "def fibonacci_sequence(n):\n",
    "    if n <= 0:\n",
    "        print(\"Invalid input. Please enter a positive integer.\")\n",
    "        return\n",
    "\n",
    "    fib_numbers = [1, 1]\n",
    "    count = 2\n",
    "\n",
    "    while count < n:\n",
    "        next_number = fib_numbers[count - 1] + fib_numbers[count - 2]\n",
    "        fib_numbers.append(next_number)\n",
    "        count += 1\n",
    "\n",
    "    print(\"The first\", n, \"Fibonacci numbers are:\")\n",
    "    for number in fib_numbers:\n",
    "        print(number)"
   ]
  },
  {
   "cell_type": "code",
   "execution_count": null,
   "id": "e26a8ebc",
   "metadata": {},
   "outputs": [],
   "source": [
    "#Factorial\n",
    "\n",
    "n = int(input('Please input a number: '))\n",
    "\n",
    "def factorial (n):\n",
    "    if n < 0:\n",
    "        return \"Invalid Input!\"\n",
    "    if n == 0 or n == 1:\n",
    "        return 1\n",
    "    else:\n",
    "        return n * factorial (n-1)\n",
    "        \n",
    "result = factorial(n)\n",
    "        \n",
    "print (f\"The factorial of {n} is {result}.\")"
   ]
  },
  {
   "cell_type": "code",
   "execution_count": null,
   "id": "d79b18b2",
   "metadata": {},
   "outputs": [],
   "source": [
    "#Printing Name\n",
    "\n",
    "name = input(\"Enter your name: \")\n",
    "count = int(input(\"Enter the number of times to print your name: \"))\n",
    "\n",
    "while count > 0:\n",
    "    print(name)\n",
    "    count -= 1\n"
   ]
  },
  {
   "cell_type": "code",
   "execution_count": null,
   "id": "3e6b51b9",
   "metadata": {},
   "outputs": [],
   "source": [
    "#Last digit of power\n",
    "\n",
    "def last_digit(power):\n",
    "    if power < 0:\n",
    "        print(\"Invalid input. Please enter a non-negative integer.\")\n",
    "        return\n",
    "\n",
    "    result = 2 ** power\n",
    "    last_digit = result % 10\n",
    "\n",
    "    print(\"The last digit of 2 raised to the power\", power, \"is\", last_digit)\n"
   ]
  },
  {
   "cell_type": "code",
   "execution_count": null,
   "id": "4f201fff",
   "metadata": {},
   "outputs": [],
   "source": [
    "#Discount\n",
    "\n",
    "purchase_amount = float(input(\"Enter the purchase amount: \"))\n",
    "\n",
    "if purchase_amount <= 1000:\n",
    "    discount_rate = 0.05\n",
    "elif purchase_amount <= 4999:\n",
    "    discount_rate = 0.1\n",
    "else:\n",
    "    discount_rate = 0.15\n",
    "\n",
    "discount = purchase_amount * discount_rate\n",
    "net_payable = purchase_amount - discount\n",
    "\n",
    "print(\"Discount:\", discount)\n",
    "print(\"Net payable:\", net_payable)\n"
   ]
  },
  {
   "cell_type": "code",
   "execution_count": null,
   "id": "e7cfd990",
   "metadata": {},
   "outputs": [],
   "source": [
    "#Convert Length\n",
    "\n",
    "centimeters = float(input(\"Enter a length in centimeters: \"))\n",
    "\n",
    "if centimeters < 0:\n",
    "    print(\"Invalid input. Please enter a non-negative length.\")\n",
    "else:\n",
    "    inches = centimeters * 2.54\n",
    "    print(centimeters, \"centimeters is equal to\", inches, \"inches.\")\n"
   ]
  },
  {
   "cell_type": "code",
   "execution_count": null,
   "id": "b1012e55",
   "metadata": {},
   "outputs": [],
   "source": [
    "# Step 1: Get the user's input for the day number (1-7)\n",
    "day_number = int(input(\"Enter a number (1-7) to represent a day of the week: \"))\n",
    "\n",
    "# Step 2: Check if the input is within the valid range (1-7)\n",
    "if 1 <= day_number <= 7:\n",
    "    # Step 3: Check if the day_number corresponds to a weekday (1-5) or a weekend day (6-7)\n",
    "    if day_number <= 5:\n",
    "        # Step 4: Display that it's a weekday\n",
    "        print(\"It's a weekday.\")\n",
    "    else:\n",
    "        # Step 5: Display that it's a weekend day\n",
    "        print(\"It's a weekend day.\")\n",
    "else:\n",
    "    # Step 6: Display an error message for invalid input\n",
    "    print(\"Invalid input. Please enter a number between 1 and 7.\")\n"
   ]
  },
  {
   "cell_type": "code",
   "execution_count": null,
   "id": "f7d99666",
   "metadata": {},
   "outputs": [],
   "source": [
    "import random\n",
    "\n",
    "print(\"Multiplication Game\")\n",
    "print(\"\\nInstructions: Multiply the following numbers and provide the correct answer.\\n\")\n",
    "\n",
    "score = 0\n",
    "question_number = 1\n",
    "for question in range(10):\n",
    "    a = random.randint(1, 10)\n",
    "    b = random.randint(1, 10)\n",
    "\n",
    "    print(f\"\\nQuestion {question_number}: Please multiply {a} by {b}.\")\n",
    "    user_response = int(input(\"Please input your answer: \"))\n",
    "\n",
    "    result = a * b\n",
    "    if user_response == result:\n",
    "        print(\"Correct!\")\n",
    "        score += 1\n",
    "    else:\n",
    "        print(f\"Incorrect. The correct answer is {result}.\")\n",
    "        \n",
    "    question_number += 1\n",
    "\n",
    "if score == 10:\n",
    "    print(\"\\nExcellent! You got it all correct.\")\n",
    "elif score >= 7:\n",
    "    print(\"\\nGreat job! Way to go!\")\n",
    "else:\n",
    "    print(\"\\nGood job! You can improve your multiplication skills.\")\n",
    "\n",
    "print(f\"\\nYour score is {score} out of 10.\")"
   ]
  },
  {
   "cell_type": "code",
   "execution_count": null,
   "id": "da20f802",
   "metadata": {},
   "outputs": [],
   "source": [
    "while True:\n",
    "    current_hour = int(input(\"What is the current hour? (1-12) \"))\n",
    "\n",
    "    am_pm = input(\"Is it AM or PM? (A/P) \")\n",
    "\n",
    "    future_hours = int(input(\"How many hours into the future do you want to go? \"))\n",
    "\n",
    "    if current_hour < 1 or current_hour > 12:\n",
    "        print(\"Invalid hour.\")\n",
    "        exit(0)\n",
    "\n",
    "    if am_pm not in [\"A\", \"P\"]:\n",
    "        print(\"Invalid AM/PM setting.\")\n",
    "        exit()\n",
    "\n",
    "    if am_pm == \"P\":\n",
    "        current_hour += 12\n",
    "\n",
    "    future_hour = (current_hour + future_hours) % 24\n",
    "\n",
    "    if future_hour >= 12:\n",
    "        future_hour -= 12\n",
    "        future_am_pm = \"PM\"\n",
    "    else:\n",
    "        future_am_pm = \"AM\"\n",
    "\n",
    "    print(f\"The hour {future_hours} hours into the future is {future_hour}{future_am_pm}.\")\n",
    "\n",
    "    choice = input(\"Continue? (Yes/No): \")\n",
    "    if choice.upper() == \"NO\":\n",
    "        print(\"Thank you for using the program.\")\n",
    "        break"
   ]
  },
  {
   "cell_type": "code",
   "execution_count": null,
   "id": "22673498",
   "metadata": {},
   "outputs": [],
   "source": []
  },
  {
   "cell_type": "code",
   "execution_count": null,
   "id": "754fe5c0",
   "metadata": {},
   "outputs": [],
   "source": []
  }
 ],
 "metadata": {
  "kernelspec": {
   "display_name": "Python 3 (ipykernel)",
   "language": "python",
   "name": "python3"
  },
  "language_info": {
   "codemirror_mode": {
    "name": "ipython",
    "version": 3
   },
   "file_extension": ".py",
   "mimetype": "text/x-python",
   "name": "python",
   "nbconvert_exporter": "python",
   "pygments_lexer": "ipython3",
   "version": "3.11.4"
  }
 },
 "nbformat": 4,
 "nbformat_minor": 5
}
